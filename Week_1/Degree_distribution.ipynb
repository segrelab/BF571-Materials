{
  "nbformat": 4,
  "nbformat_minor": 0,
  "metadata": {
    "colab": {
      "provenance": [],
      "collapsed_sections": [
        "qp8OVsdwjXcS",
        "g7JtM1mmjZt3",
        "7GrcMFqMlH4G",
        "D6a_Pv_aeUQz",
        "03Dhg8RQ10cD",
        "oC4ugIBBMjXj"
      ],
      "include_colab_link": true
    },
    "kernelspec": {
      "name": "python3",
      "display_name": "Python 3"
    },
    "language_info": {
      "name": "python"
    }
  },
  "cells": [
    {
      "cell_type": "markdown",
      "metadata": {
        "id": "view-in-github",
        "colab_type": "text"
      },
      "source": [
        "<a href=\"https://colab.research.google.com/github/segrelab/BF571-Materials/blob/main/Week_1/Degree_distribution.ipynb\" target=\"_parent\"><img src=\"https://colab.research.google.com/assets/colab-badge.svg\" alt=\"Open In Colab\"/></a>"
      ]
    },
    {
      "cell_type": "markdown",
      "source": [
        "# Set-Up"
      ],
      "metadata": {
        "id": "_YmsB9ibaXLw"
      }
    },
    {
      "cell_type": "code",
      "execution_count": null,
      "metadata": {
        "colab": {
          "base_uri": "https://localhost:8080/"
        },
        "id": "xoSATXf-aO2i",
        "outputId": "98c2acc6-c53c-434c-c05b-951f04838a2e"
      },
      "outputs": [
        {
          "output_type": "stream",
          "name": "stdout",
          "text": [
            "Mounted at /content/gdrive/\n"
          ]
        }
      ],
      "source": [
        "# Mount the drive\n",
        "from google.colab import drive\n",
        "drive.mount('/content/gdrive/', force_remount=True)"
      ]
    },
    {
      "cell_type": "code",
      "source": [
        "# Edit the file path to go to the \"Week 1\" folder- or whever the network file is\n",
        "filepath = '/content/gdrive/MyDrive/Segrè Lab Shared/BF571/Student Versions/Week 1'"
      ],
      "metadata": {
        "id": "MW5XtaTiaeo9"
      },
      "execution_count": null,
      "outputs": []
    },
    {
      "cell_type": "code",
      "source": [
        "import networkx as nx"
      ],
      "metadata": {
        "id": "fA5DbHL-bsd9"
      },
      "execution_count": null,
      "outputs": []
    },
    {
      "cell_type": "code",
      "source": [
        "import json\n",
        "import os\n",
        "import numpy as np\n",
        "import pandas as pd\n",
        "import matplotlib.pyplot as plt\n",
        "from collections import Counter"
      ],
      "metadata": {
        "id": "tusQYYNYdXY-"
      },
      "execution_count": null,
      "outputs": []
    },
    {
      "cell_type": "markdown",
      "source": [
        "# Global Network Properties\n",
        "\n",
        "## The Degree Distribution"
      ],
      "metadata": {
        "id": "44HLfD2oftoR"
      }
    },
    {
      "cell_type": "markdown",
      "source": [
        "### What are fractals?"
      ],
      "metadata": {
        "id": "qp8OVsdwjXcS"
      }
    },
    {
      "cell_type": "markdown",
      "source": [
        "Fractals are objects that are **self-similar** at different scales.\n",
        "\n",
        "You can think of a tree is a fractal- at the largest scale a tree is a trunk with branches, but those individual branches have branches off of them, and those syb branches have even smaller branches, and so on.\n",
        "\n",
        "![leaf+fractals.png](data:image/png;base64,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)\n",
        "\n",
        "One of the most famous fractal patterns is called the Mandelbrot sequence:"
      ],
      "metadata": {
        "id": "5_E5tnL3hPy1"
      }
    },
    {
      "cell_type": "code",
      "source": [
        "from IPython.display import Image\n",
        "Image(url='https://upload.wikimedia.org/wikipedia/commons/a/a4/Mandelbrot_sequence_new.gif')"
      ],
      "metadata": {
        "colab": {
          "base_uri": "https://localhost:8080/"
        },
        "id": "o91VgpjNhlDh",
        "outputId": "7ecb6381-263f-40c4-8d57-0be45d82bb09"
      },
      "execution_count": null,
      "outputs": [
        {
          "output_type": "execute_result",
          "data": {
            "text/html": [
              "<img src=\"https://upload.wikimedia.org/wikipedia/commons/a/a4/Mandelbrot_sequence_new.gif\"/>"
            ],
            "text/plain": [
              "<IPython.core.display.Image object>"
            ]
          },
          "metadata": {},
          "execution_count": 5
        }
      ]
    },
    {
      "cell_type": "markdown",
      "source": [
        "### What is Degree?"
      ],
      "metadata": {
        "id": "g7JtM1mmjZt3"
      }
    },
    {
      "cell_type": "markdown",
      "source": [
        "One of the most brasic properties of any node in a network ($n_i$) is its degree ($k_i$), defined as the number of edges that connect to the node.\n",
        "\n",
        "Typically this is equivalent to the number of neighboring nodes (assuming there are no edges that create self-loops and there are not multiple edges between two nodes (i.e. in a multi-graph)).\n",
        "\n",
        "In the case of directed networks we can distinguish between the input degree, or \"indegree\" ($k^{in}_i$) and the output degree or \"outdegree\" ($k^{out}_i$).\n",
        "\n",
        "We can calculate the degree for each node in a network.\n"
      ],
      "metadata": {
        "id": "b_5BdXgZj7mR"
      }
    },
    {
      "cell_type": "markdown",
      "source": [
        "For our analysis, lets start by generating a random network.\n",
        "\n",
        "The NetworkX function `gnm_random_graph` will generate a graph for you based on the number of nodes and edges you pass to the function (in that order).\n",
        "\n",
        "Write the code to generate a network with 10 nodes and 20 edges.\n",
        "\n",
        "In order to make our network reproducible (and compare with each other) we will set the random number generator to a specific number, you can do this by passing in a value for with the keyword `seed`- we will use the seed number 20160."
      ],
      "metadata": {
        "id": "okzRahiiQd5z"
      }
    },
    {
      "cell_type": "code",
      "source": [],
      "metadata": {
        "id": "1hF7BJ9zAcG7"
      },
      "execution_count": null,
      "outputs": []
    },
    {
      "cell_type": "markdown",
      "source": [
        "You can verify that your network is as expected using the functions we learned last time."
      ],
      "metadata": {
        "id": "iqSf5JSjRc6U"
      }
    },
    {
      "cell_type": "code",
      "source": [],
      "metadata": {
        "id": "S4f87hWhYhzh"
      },
      "execution_count": null,
      "outputs": []
    },
    {
      "cell_type": "markdown",
      "source": [
        "NetworkX has a built in method to calculate the the degree of any node. You can call the method `degree()` and pass in the ID of the node you are interested in."
      ],
      "metadata": {
        "id": "hTAUdmzTRmkk"
      }
    },
    {
      "cell_type": "code",
      "source": [],
      "metadata": {
        "id": "MJ2sX38JKM8X"
      },
      "execution_count": null,
      "outputs": []
    },
    {
      "cell_type": "markdown",
      "source": [
        "And by giving no arguments to the method it will return a dictionary where the keys are the node IDs and the values are the node degrees."
      ],
      "metadata": {
        "id": "o95H0ez6RzzZ"
      }
    },
    {
      "cell_type": "code",
      "source": [],
      "metadata": {
        "id": "ya6YBbhzlTnc"
      },
      "execution_count": null,
      "outputs": []
    },
    {
      "cell_type": "markdown",
      "source": [
        "### What is Degree Distribution?"
      ],
      "metadata": {
        "id": "7GrcMFqMlH4G"
      }
    },
    {
      "cell_type": "markdown",
      "source": [
        "The degree distribution requires you to look at **all** nodes in a network, rather than one at a time.\n",
        "\n",
        "By looking at all nodes, we can ask what is the probability ($p(k)$) of a of a random node to having a degree equal to $k$.\n",
        "\n",
        "The degree distribution has become one of the most prominent characteristics of network topology.\n",
        "\n",
        "We typically visualize the degree distribution as a bar graph, where each bar represents a specific degree, and the height of the bar is the number of nodes with that degree or the probability of any node having that degree.\n",
        "\n",
        "Here is an example of what that bar graph may look like for the graph we just generated.\n",
        "\n",
        "![degree example.png](data:image/png;base64,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)"
      ],
      "metadata": {
        "id": "XMzJFsFxsMpN"
      }
    },
    {
      "cell_type": "markdown",
      "source": [
        "To generate this graph yourself, you will need to find the number of nodes that have each degree, and then plot a bar chart (Hint: use the `plt.bar()` function)."
      ],
      "metadata": {
        "id": "WC6tqS0mSkqe"
      }
    },
    {
      "cell_type": "code",
      "source": [],
      "metadata": {
        "id": "_y9R-udSYmRc"
      },
      "execution_count": null,
      "outputs": []
    },
    {
      "cell_type": "markdown",
      "source": [
        "You'll now do the same on a real biological network! Each of the sections below has the code to read in a file to a NetworkX graph, it will be up to you to calculate the degree and plot the degree distribution."
      ],
      "metadata": {
        "id": "JA8uFbmBS36z"
      }
    },
    {
      "cell_type": "markdown",
      "source": [
        "## COVID Protein-Protein Interaction Network"
      ],
      "metadata": {
        "id": "D6a_Pv_aeUQz"
      }
    },
    {
      "cell_type": "code",
      "source": [
        "filename = os.path.join(filepath, 'HEK293T_SARS-CoV-2.cx')"
      ],
      "metadata": {
        "id": "cZP_ugMndbe9"
      },
      "execution_count": null,
      "outputs": []
    },
    {
      "cell_type": "code",
      "source": [
        "# Function for reading in the network file to networkx\n",
        "def cx2graph(cx_file_name):\n",
        "\n",
        "    cxjson = json.load(open(cx_file_name))\n",
        "\n",
        "    name_from_id = {}\n",
        "    for node in cxjson[3]['nodes']:\n",
        "        name_from_id[node['@id']] = node['n']\n",
        "\n",
        "    edge_list = []\n",
        "    for edge in cxjson[4]['edges']:\n",
        "        src_id = edge['s']\n",
        "        src_name = name_from_id[src_id]\n",
        "        tgt_id   = edge['t']\n",
        "        tgt_name = name_from_id[tgt_id]\n",
        "        edge_list.append([src_name, tgt_name])\n",
        "  \n",
        "    graph = nx.from_edgelist(edge_list, create_using=nx.Graph)\n",
        "    return graph"
      ],
      "metadata": {
        "id": "XBr4UhqvdHbI"
      },
      "execution_count": null,
      "outputs": []
    },
    {
      "cell_type": "code",
      "source": [
        "# Read in the network file\n",
        "G = cx2graph(filename)"
      ],
      "metadata": {
        "id": "TVEyIpp4bppd"
      },
      "execution_count": null,
      "outputs": []
    },
    {
      "cell_type": "markdown",
      "source": [
        "## *E. coli Transcription Factor Network*"
      ],
      "metadata": {
        "id": "03Dhg8RQ10cD"
      }
    },
    {
      "cell_type": "code",
      "source": [
        "filename = os.path.join(filepath, 'network_tf_tf_lower_minimal.tsv')"
      ],
      "metadata": {
        "id": "nVaqxJ_F1-Mc"
      },
      "execution_count": null,
      "outputs": []
    },
    {
      "cell_type": "code",
      "source": [
        "G = nx.read_edgelist(open(filename, \"rb\"), delimiter='\\t', nodetype=str)"
      ],
      "metadata": {
        "id": "v2ODsy114x1n"
      },
      "execution_count": null,
      "outputs": []
    },
    {
      "cell_type": "markdown",
      "source": [
        "## Scale Free Networks"
      ],
      "metadata": {
        "id": "oC4ugIBBMjXj"
      }
    },
    {
      "cell_type": "markdown",
      "source": [
        "We've seen that our biological networks don't make normal distributions for the degree distribution, like our random graph did.\n",
        "\n",
        "To see the \"perfect\" version of this distribution we will generate another graph using the function `barabasi_albert_graph`."
      ],
      "metadata": {
        "id": "eL5KgKp_TNMg"
      }
    },
    {
      "cell_type": "code",
      "source": [],
      "metadata": {
        "id": "JxKO8a8XMxCP"
      },
      "execution_count": null,
      "outputs": []
    },
    {
      "cell_type": "code",
      "source": [],
      "metadata": {
        "id": "0H2FhAPKUCRf"
      },
      "execution_count": null,
      "outputs": []
    },
    {
      "cell_type": "markdown",
      "source": [
        "And now calculate and plot the degree distribution of this graph."
      ],
      "metadata": {
        "id": "uE9CqHnoUKLm"
      }
    },
    {
      "cell_type": "code",
      "source": [],
      "metadata": {
        "id": "DfYaTwEgUM9q"
      },
      "execution_count": null,
      "outputs": []
    },
    {
      "cell_type": "code",
      "source": [],
      "metadata": {
        "id": "cihLRannUUAv"
      },
      "execution_count": null,
      "outputs": []
    },
    {
      "cell_type": "code",
      "source": [],
      "metadata": {
        "id": "CjJlPMbQUahJ"
      },
      "execution_count": null,
      "outputs": []
    }
  ]
}