{
  "nbformat": 4,
  "nbformat_minor": 0,
  "metadata": {
    "colab": {
      "provenance": [],
      "collapsed_sections": [
        "w5OR0fbQGAWl",
        "Y1edeFbxZUjr",
        "57vqxpXxZBmy",
        "_8ogyH5DYbXt"
      ],
      "mount_file_id": "1tp9_P23LS4W3l_7L-SyleyLBapKRMcUL",
      "authorship_tag": "ABX9TyO6Fq8nXlh04xKOk3j5Tn75",
      "include_colab_link": true
    },
    "kernelspec": {
      "name": "python3",
      "display_name": "Python 3"
    },
    "language_info": {
      "name": "python"
    }
  },
  "cells": [
    {
      "cell_type": "markdown",
      "metadata": {
        "id": "view-in-github",
        "colab_type": "text"
      },
      "source": [
        "<a href=\"https://colab.research.google.com/github/segrelab/BF571-Materials/blob/main/Week_1/Intro_to_networks.ipynb\" target=\"_parent\"><img src=\"https://colab.research.google.com/assets/colab-badge.svg\" alt=\"Open In Colab\"/></a>"
      ]
    },
    {
      "cell_type": "markdown",
      "source": [
        "# Set-Up"
      ],
      "metadata": {
        "id": "D3DDJgwZjVp7"
      }
    },
    {
      "cell_type": "code",
      "source": [
        "# Mount the drive\n",
        "from google.colab import drive\n",
        "drive.mount('/content/gdrive/', force_remount=True)"
      ],
      "metadata": {
        "colab": {
          "base_uri": "https://localhost:8080/"
        },
        "id": "14d-cHQAjema",
        "outputId": "2f3c850b-84c9-46a8-bf61-f27be01b4c3a"
      },
      "execution_count": 1,
      "outputs": [
        {
          "output_type": "stream",
          "name": "stdout",
          "text": [
            "Mounted at /content/gdrive/\n"
          ]
        }
      ]
    },
    {
      "cell_type": "code",
      "source": [
        "# Change this to be the file path in your drive to the folder where this file is saved\n",
        "filepath = '/content/gdrive/MyDrive/Segrè Lab Shared/BF571/Student Versions/Week 1'"
      ],
      "metadata": {
        "id": "kVKrEpqXjfje"
      },
      "execution_count": 2,
      "outputs": []
    },
    {
      "cell_type": "markdown",
      "source": [
        "# Introduction to NetworkX\n",
        "\n",
        "In the python world, there is a library called NetworkX that allows us to manipulate, analyze and model graph data. Let's see how we can use the NetworkX API to analyze graph data.\n"
      ],
      "metadata": {
        "id": "NPAxajb4Qcs2"
      }
    },
    {
      "cell_type": "markdown",
      "source": [
        "The first thing you will need to do is import the NetworkX package. NetworkX is typically imported as nx."
      ],
      "metadata": {
        "id": "Gi8SsIM6WjT_"
      }
    },
    {
      "cell_type": "code",
      "execution_count": 2,
      "metadata": {
        "id": "6aYQQABdQXpH"
      },
      "outputs": [],
      "source": []
    },
    {
      "cell_type": "markdown",
      "source": [
        "We'll also be using a few other standard packages, which we have imported here."
      ],
      "metadata": {
        "id": "BMi0AVIjaBZr"
      }
    },
    {
      "cell_type": "code",
      "source": [
        "import numpy as np\n",
        "import pandas as pd\n",
        "import json\n",
        "import os"
      ],
      "metadata": {
        "id": "QOWxoLf0W3K8"
      },
      "execution_count": 3,
      "outputs": []
    },
    {
      "cell_type": "markdown",
      "source": [
        "## Loading and Visualization"
      ],
      "metadata": {
        "id": "IXcWM58cFCuN"
      }
    },
    {
      "cell_type": "markdown",
      "source": [
        "\n",
        "Graphs in networkX can be created in a few different ways:\n",
        "\n",
        "- We can create an empty graph and add the vertices and edges either one by one or from a list.\n",
        "- We can load a graph from an adjacency list or matrix.\n",
        "- We can create a graph from a pandas dataframe.\n",
        "- We can load a graph from filetypes specificlly for storing netowrks, such as a Cytoscape.js supprted JSON.\n",
        "- Finally, some special graphs (complete graphs, complete bipartite graphs, ...) can be created using special functions.\n",
        "\n",
        "In this class we will cover the first five cases, and may cover special graphs later."
      ],
      "metadata": {
        "id": "pdY9weFJUdqY"
      }
    },
    {
      "cell_type": "markdown",
      "source": [
        "### Create a Graph From Scratch\n",
        "\n"
      ],
      "metadata": {
        "id": "w5OR0fbQGAWl"
      }
    },
    {
      "cell_type": "markdown",
      "source": [
        "Using `nx.Graph()` we can initialize an empty graph to which we can add nodes and edges."
      ],
      "metadata": {
        "id": "Nn9CTzQbWeEk"
      }
    },
    {
      "cell_type": "code",
      "source": [],
      "metadata": {
        "id": "TiqMPSoCUc93"
      },
      "execution_count": 3,
      "outputs": []
    },
    {
      "cell_type": "markdown",
      "source": [
        "Take a look at the graph opject and its nodes and edges by using the variable `G` and the methods `nodes()` and `edges()`."
      ],
      "metadata": {
        "id": "unwPy3YwWoOT"
      }
    },
    {
      "cell_type": "code",
      "source": [],
      "metadata": {
        "id": "3ch85g6hVQbD"
      },
      "execution_count": 3,
      "outputs": []
    },
    {
      "cell_type": "code",
      "source": [],
      "metadata": {
        "id": "Oe_05O5eVRuL"
      },
      "execution_count": 3,
      "outputs": []
    },
    {
      "cell_type": "code",
      "source": [],
      "metadata": {
        "id": "JVZKggH2VTko"
      },
      "execution_count": 3,
      "outputs": []
    },
    {
      "cell_type": "markdown",
      "source": [
        "#### Add Nodes to the Empty Graph"
      ],
      "metadata": {
        "id": "EFX4OIsvYWde"
      }
    },
    {
      "cell_type": "markdown",
      "source": [
        "Use the `add_node` method to add a single node by itself. The first argument is the ID for the node itself, and can be any hashable Python object other than None, that can be used as a key in a Python dictionary. This includes strings, numbers, tuples of strings and numbers, etc.\n",
        "\n",
        "For our graph, we will add a node with the id `1` (the integer)."
      ],
      "metadata": {
        "id": "4G_o6OPiWrUw"
      }
    },
    {
      "cell_type": "code",
      "source": [],
      "metadata": {
        "id": "ggYhZbAiWtaD"
      },
      "execution_count": 3,
      "outputs": []
    },
    {
      "cell_type": "markdown",
      "source": [
        "You can also add multiple nodes at once using the `add_nodes_from` method. Here, provide the function with an iterable container, such as a list with your node IDs.\n",
        "\n",
        "For our graph, add a list of the nodes `2` and `3`."
      ],
      "metadata": {
        "id": "V0-5lxg_XStj"
      }
    },
    {
      "cell_type": "code",
      "source": [],
      "metadata": {
        "id": "MdCqIJghXSTT"
      },
      "execution_count": 3,
      "outputs": []
    },
    {
      "cell_type": "markdown",
      "source": [
        "Now that we have added some nodes, use the `nodes()` method to look at them all."
      ],
      "metadata": {
        "id": "ndfIJt-TXkPd"
      }
    },
    {
      "cell_type": "code",
      "source": [],
      "metadata": {
        "id": "GHRYBUaiXRxC"
      },
      "execution_count": 3,
      "outputs": []
    },
    {
      "cell_type": "markdown",
      "source": [
        "You can also add nodes along with node attributes if your container yields 2-tuples of the form `(node, node_attribute_dict)`:"
      ],
      "metadata": {
        "id": "tw95kFNZX0ps"
      }
    },
    {
      "cell_type": "code",
      "source": [],
      "metadata": {
        "id": "4YY_X9vsX5a5"
      },
      "execution_count": 3,
      "outputs": []
    },
    {
      "cell_type": "markdown",
      "source": [
        "Now check if the new nodes are visible in the list."
      ],
      "metadata": {
        "id": "7tJwnHmqIZCI"
      }
    },
    {
      "cell_type": "code",
      "source": [],
      "metadata": {
        "id": "Jp2YoXowX_l-"
      },
      "execution_count": 3,
      "outputs": []
    },
    {
      "cell_type": "markdown",
      "source": [
        "To see the metadata for the nodes as well, you will need to use the `data=True` argument in the `nodes` method."
      ],
      "metadata": {
        "id": "g9oFWCSNIhAT"
      }
    },
    {
      "cell_type": "code",
      "source": [],
      "metadata": {
        "id": "saAqgo4TYBhX"
      },
      "execution_count": 3,
      "outputs": []
    },
    {
      "cell_type": "markdown",
      "source": [
        "Now that we've added some nodes, let's see what our network looks like. We can visualize our network using the `draw` function from `nx` and supplying it with our graph, `G`."
      ],
      "metadata": {
        "id": "Ou-Q_BqkL5Tv"
      }
    },
    {
      "cell_type": "code",
      "source": [],
      "metadata": {
        "id": "aW24L4m9L5Bi"
      },
      "execution_count": 3,
      "outputs": []
    },
    {
      "cell_type": "markdown",
      "source": [
        "Now we need to connect the nodes of the graph to make it look more like a network!"
      ],
      "metadata": {
        "id": "senNUxKeMJ9m"
      }
    },
    {
      "cell_type": "markdown",
      "source": [
        "#### Connect Notes using Edges"
      ],
      "metadata": {
        "id": "gVtWsXZVYjZE"
      }
    },
    {
      "cell_type": "markdown",
      "source": [
        "As we saw on the plot, we currently have no edges, we can also verify this using the `edges` method."
      ],
      "metadata": {
        "id": "7jg6kL73MQ1r"
      }
    },
    {
      "cell_type": "code",
      "source": [],
      "metadata": {
        "id": "KFKwuLCjYk3b"
      },
      "execution_count": 3,
      "outputs": []
    },
    {
      "cell_type": "markdown",
      "source": [
        "Just like we did with the nodes, `G` can also be grown by adding one edge at a time, using the `add_edge` method. For nodes we only needed one variable, the ID for that node, but for edges we will need two variables- the two node IDs that our edge is connecting.\n",
        "\n",
        "Use the `add_edge` method to create an edge between node `1` and node `2`."
      ],
      "metadata": {
        "id": "x_kZgRHgYrfj"
      }
    },
    {
      "cell_type": "code",
      "source": [],
      "metadata": {
        "id": "PwvPLMeUY4Qv"
      },
      "execution_count": 3,
      "outputs": []
    },
    {
      "cell_type": "markdown",
      "source": [
        "Like nodes, we can all add a list of edges by passing a tuple for each edge inside of a list.\n",
        "\n",
        "Add edges between `1` and `3` and between `1` and `4` using the `add_edges_from` method."
      ],
      "metadata": {
        "id": "1BBPcV9TZNJN"
      }
    },
    {
      "cell_type": "code",
      "source": [],
      "metadata": {
        "id": "2KWwIpcZZNyr"
      },
      "execution_count": 3,
      "outputs": []
    },
    {
      "cell_type": "markdown",
      "source": [
        "Let's take a look at the edges we've created so far."
      ],
      "metadata": {
        "id": "Mohfp-wZNY_m"
      }
    },
    {
      "cell_type": "code",
      "source": [],
      "metadata": {
        "id": "M3myiZH-ZapP"
      },
      "execution_count": 3,
      "outputs": []
    },
    {
      "cell_type": "markdown",
      "source": [
        "Edges can also be associated with metadata. One of the most common types of metadata you will see is `weight` which can represent the strength of a relationship between two nodes. You can associate an edge with its metadata by using keywords.\n",
        "\n",
        "Add an edge betweeen nodes `2` and `4` and use the keyword `weight` to specify that the weight of the edge is 3."
      ],
      "metadata": {
        "id": "EnkTWTYCahUR"
      }
    },
    {
      "cell_type": "code",
      "source": [],
      "metadata": {
        "id": "6wfH4njZa9X7"
      },
      "execution_count": 3,
      "outputs": []
    },
    {
      "cell_type": "markdown",
      "source": [
        "Like with the nodes, we can see the edges and their associated metadata by using the `data=True` argument to the `edges` method."
      ],
      "metadata": {
        "id": "DQc-B-gxToNx"
      }
    },
    {
      "cell_type": "code",
      "source": [],
      "metadata": {
        "id": "EuSFDws1T34B"
      },
      "execution_count": 3,
      "outputs": []
    },
    {
      "cell_type": "markdown",
      "source": [
        "Lets use the `draw` function to visualize our network again now that we have edges."
      ],
      "metadata": {
        "id": "m_FTf0DWbTL6"
      }
    },
    {
      "cell_type": "code",
      "source": [],
      "metadata": {
        "id": "cWfKDJlQbVDg"
      },
      "execution_count": 3,
      "outputs": []
    },
    {
      "cell_type": "markdown",
      "source": [
        "### Create a Graph From an Adjacency List"
      ],
      "metadata": {
        "id": "Y1edeFbxZUjr"
      }
    },
    {
      "cell_type": "markdown",
      "source": [
        "An adjacency list represents a graph as an array of linked lists. The index of the array represents a vertex and each element in its linked list represents the other vertices that form an edge with the vertex.\n",
        "\n",
        "For example, we have a graph below.\n",
        "![adjacency-list-graph.png](data:image/png;base64,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)\n",
        "\n",
        "We can represent this graph in the form of a linked list as shown below.\n",
        "![adjacency-list-representation.png](data:image/png;base64,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)\n",
        "\n",
        "Here, 0, 1, 2, 3 are the vertices and each of them forms a linked list with all of its adjacent vertices. For instance, vertex 1 has two adjacent vertices 0 and 2. Therefore, 1 is linked with 0 and 2 in the figure above.\n",
        "\n",
        "Here we are explicitly defining the links both ways (i.e. 0 is conncected with 1, and 1 is connected with 0). However, in an undirected network, there is no need to define an edge twice.\n",
        "\n",
        "So we can redefine our adjacency list as:\n",
        "0 --> 1, 2, 3\n",
        "1 --> 2\n",
        "\n",
        "To write this in python we will create one list, with each line in the adjacency list defined as one string, and each line separated by commas."
      ],
      "metadata": {
        "id": "DJgSp8pyOqxL"
      }
    },
    {
      "cell_type": "code",
      "source": [],
      "metadata": {
        "id": "_zEKk5V1QKA-"
      },
      "execution_count": 3,
      "outputs": []
    },
    {
      "cell_type": "markdown",
      "source": [
        "We can read in that adjacency list variable using the `parse_adjlist` function from `nx`. We will also need to specify that the IDs of our nodes are integers, using the `nodetype=int` argument."
      ],
      "metadata": {
        "id": "Ng2_OoquVB_5"
      }
    },
    {
      "cell_type": "code",
      "source": [],
      "metadata": {
        "id": "o7OEmYDnT8Ol"
      },
      "execution_count": 3,
      "outputs": []
    },
    {
      "cell_type": "markdown",
      "source": [
        "Now, visualize the network."
      ],
      "metadata": {
        "id": "fUXExxKkVSyv"
      }
    },
    {
      "cell_type": "code",
      "source": [],
      "metadata": {
        "id": "E-HNdUl7UcWn"
      },
      "execution_count": 3,
      "outputs": []
    },
    {
      "cell_type": "markdown",
      "source": [
        "### Create a Graph from an Adjacency Matrix"
      ],
      "metadata": {
        "id": "57vqxpXxZBmy"
      }
    },
    {
      "cell_type": "markdown",
      "source": [
        "Another way of represnting the same graph is with an Adjacency Matrix. In the adjacency matrix, the rows and columns are each of the nodes, and 0s and 1s represent if there is an edge between the two.\n",
        "\n",
        "So for our graph, the adjacency matrix looks like:\n",
        "![adjacency-matrix-representation_1.png](data:image/png;base64,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)\n",
        "\n",
        "For undirected graphs, this matrix will always be symmetrical, but for directed graphs it may not be.\n",
        "\n",
        "We have saved our adjacency matrix as a NumPy array."
      ],
      "metadata": {
        "id": "4oAYCce1ZCB7"
      }
    },
    {
      "cell_type": "code",
      "source": [
        "adj_matrix = np.array([[0, 1, 1, 1],\n",
        "                       [1, 0, 1, 0],\n",
        "                       [1, 1, 0, 0],\n",
        "                       [1, 0, 0, 0]])"
      ],
      "metadata": {
        "id": "hF5V1UUaZCB8"
      },
      "execution_count": 4,
      "outputs": []
    },
    {
      "cell_type": "markdown",
      "source": [
        "Print the adjacency matrix to inspect it."
      ],
      "metadata": {
        "id": "2TqBmyRxZCB8"
      }
    },
    {
      "cell_type": "code",
      "source": [],
      "metadata": {
        "id": "WtqTDJ9TZCB8"
      },
      "execution_count": 4,
      "outputs": []
    },
    {
      "cell_type": "markdown",
      "source": [
        "We can create a graph using the `Graph` function from `nx` and supplying our matrix as an argument. We will also need to give the argument `nodetype=int`."
      ],
      "metadata": {
        "id": "VYLyljH_ZCB8"
      }
    },
    {
      "cell_type": "code",
      "source": [],
      "metadata": {
        "id": "1HVWXdYqZCB9"
      },
      "execution_count": 4,
      "outputs": []
    },
    {
      "cell_type": "markdown",
      "source": [
        "Now visualize the graph."
      ],
      "metadata": {
        "id": "LkCKVndJZCB9"
      }
    },
    {
      "cell_type": "code",
      "source": [],
      "metadata": {
        "id": "Nzi4agWJZCB9"
      },
      "execution_count": 4,
      "outputs": []
    },
    {
      "cell_type": "markdown",
      "source": [
        "### Create a Graph from a Pandas Dataframe"
      ],
      "metadata": {
        "id": "_8ogyH5DYbXt"
      }
    },
    {
      "cell_type": "markdown",
      "source": [
        "Another way of defining a graph with edge parameters is through the from_pandas_dataframe() function. It allows us to read in a dataframe where each row corresponds to one edge and each additional column to an attribute.\n",
        "\n",
        "Consider this basic dataframe with four edges with the attributes color and weight."
      ],
      "metadata": {
        "id": "qweYLd7zZdNW"
      }
    },
    {
      "cell_type": "code",
      "source": [
        "df = pd.DataFrame({ 'n1' : [1, 2, 2, 3],\n",
        "                    'n2' : [2, 3, 4, 4],\n",
        "                    'color' : [\"blue\",\"green\",\"blue\",\"orange\"],\n",
        "                    'weight' : [1, 2, 3, 4] })\n"
      ],
      "metadata": {
        "id": "z4K1-q4EaIL-"
      },
      "execution_count": 5,
      "outputs": []
    },
    {
      "cell_type": "markdown",
      "source": [
        "You can use the `nx` function `from_pandas_dataframe` to create the graph including all of the metadata for the edges. Use the [documentation on the NetworkX website](https://networkx.org/documentation/stable/reference/generated/networkx.convert_matrix.from_pandas_edgelist.html) to determine the correct arguments to use."
      ],
      "metadata": {
        "id": "-WxC67ngacU5"
      }
    },
    {
      "cell_type": "code",
      "source": [],
      "metadata": {
        "id": "Ibi6XcpvbBJQ"
      },
      "execution_count": 5,
      "outputs": []
    },
    {
      "cell_type": "markdown",
      "source": [
        "Check that your graph has all the edges with their associated metadata."
      ],
      "metadata": {
        "id": "Nf658PiyboRU"
      }
    },
    {
      "cell_type": "code",
      "source": [],
      "metadata": {
        "id": "lYrxpqqRbT55"
      },
      "execution_count": 5,
      "outputs": []
    },
    {
      "cell_type": "markdown",
      "source": [
        "### Load a Graph from a JSON file"
      ],
      "metadata": {
        "id": "VmDYm0fDdfyE"
      }
    },
    {
      "cell_type": "markdown",
      "source": [
        "Declare the full path to the saved file in the shared drive."
      ],
      "metadata": {
        "id": "wTrNMZxlj2NV"
      }
    },
    {
      "cell_type": "code",
      "source": [
        "filename = os.path.join(filepath, 'Annotated Badger Network.cyjs')"
      ],
      "metadata": {
        "id": "bxxDKMfCfEgZ"
      },
      "execution_count": 6,
      "outputs": []
    },
    {
      "cell_type": "markdown",
      "source": [
        "We have written a function to open the json file and read in the node and edge information. This function is specific to the JSON structure of our file."
      ],
      "metadata": {
        "id": "Rp4PtJITeSVN"
      }
    },
    {
      "cell_type": "code",
      "source": [
        "def cyjs2graph(cyjs_file_name):\n",
        "\n",
        "    cyjson = json.load(open(cyjs_file_name))\n",
        "\n",
        "    name_from_id = {}\n",
        "    for node in cyjson[\"elements\"][\"nodes\"]:\n",
        "        name_from_id[node['data']['id']] = node['data']['name']\n",
        "\n",
        "    edge_list = []\n",
        "    for edge in cyjson[\"elements\"][\"edges\"]:\n",
        "        src_id = edge['data']['source']\n",
        "        src_name = name_from_id[src_id]\n",
        "        tgt_id   = edge['data']['target']\n",
        "        tgt_name = name_from_id[tgt_id]\n",
        "        edge_list.append([src_name, tgt_name])\n",
        "  \n",
        "    graph = nx.from_edgelist(edge_list, create_using=nx.Graph)\n",
        "    return graph"
      ],
      "metadata": {
        "id": "abL5mSiCPLac"
      },
      "execution_count": 7,
      "outputs": []
    },
    {
      "cell_type": "markdown",
      "source": [
        "Use the custom function to read in the JSON file by supplying the full path to the file as the variable."
      ],
      "metadata": {
        "id": "UxLHMKxlkRiR"
      }
    },
    {
      "cell_type": "code",
      "source": [],
      "metadata": {
        "id": "v0B8WaIihC-_"
      },
      "execution_count": 7,
      "outputs": []
    },
    {
      "cell_type": "markdown",
      "source": [
        "Inspect the nodes of our graph."
      ],
      "metadata": {
        "id": "LReyjaJNkZ4u"
      }
    },
    {
      "cell_type": "code",
      "source": [],
      "metadata": {
        "id": "3HOPQ1plQ4_d"
      },
      "execution_count": 7,
      "outputs": []
    },
    {
      "cell_type": "markdown",
      "source": [
        "Visualize our new graph."
      ],
      "metadata": {
        "id": "avMOy_1ikgD8"
      }
    },
    {
      "cell_type": "code",
      "source": [],
      "metadata": {
        "id": "LTFLvHIIRFM-"
      },
      "execution_count": 7,
      "outputs": []
    }
  ]
}