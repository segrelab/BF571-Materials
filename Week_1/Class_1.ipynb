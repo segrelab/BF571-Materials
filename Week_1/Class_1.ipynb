{
  "nbformat": 4,
  "nbformat_minor": 0,
  "metadata": {
    "colab": {
      "provenance": [],
      "authorship_tag": "ABX9TyNzuVjWnF7CxQusbVrmgY5N",
      "include_colab_link": true
    },
    "kernelspec": {
      "name": "python3",
      "display_name": "Python 3"
    },
    "language_info": {
      "name": "python"
    }
  },
  "cells": [
    {
      "cell_type": "markdown",
      "metadata": {
        "id": "view-in-github",
        "colab_type": "text"
      },
      "source": [
        "<a href=\"https://colab.research.google.com/github/segrelab/BF571/blob/main/Week_1/Class_1.ipynb\" target=\"_parent\"><img src=\"https://colab.research.google.com/assets/colab-badge.svg\" alt=\"Open In Colab\"/></a>"
      ]
    },
    {
      "cell_type": "markdown",
      "source": [
        "# First Day Notebook\n",
        "What are we going to cover?"
      ],
      "metadata": {
        "id": "G66nkUCDKOLT"
      }
    },
    {
      "cell_type": "markdown",
      "source": [
        "Solve 2 + "
      ],
      "metadata": {
        "id": "hsOVulDvO7It"
      }
    },
    {
      "cell_type": "markdown",
      "source": [
        "Solve 2 + 2"
      ],
      "metadata": {
        "id": "Ek_60QrPPGN1"
      }
    },
    {
      "cell_type": "code",
      "execution_count": null,
      "metadata": {
        "id": "yfuTTgfVKLzt"
      },
      "outputs": [],
      "source": []
    }
  ]
}